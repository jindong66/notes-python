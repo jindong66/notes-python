{
 "cells": [
  {
   "cell_type": "markdown",
   "metadata": {},
   "source": [
    "Python data types:  \n",
    "\n",
    "Common data types:\n",
    "| type     | example            |\n",
    "|----------|--------------------|\n",
    "|integer   |-100                |\n",
    "|float     |3.1415926           |\n",
    "|string    |'hello'             |\n",
    "|list      |[1, 1.2, 'hello']   |\n",
    "|dictionary|{'dogs':5, 'pigs':3}|\n",
    "\n",
    "Others\n",
    "|type        |example                |\n",
    "|------------|-----------------------|\n",
    "|long int    |10000000000L           |\n",
    "|bool        |True, False            |\n",
    "|tuple       |('ring', 1000)         |\n",
    "|set         |{1, 2, 3}              |\n",
    "|Pandas      |DataFrame, Series      |\n",
    "|self defined|Object Oriented Classes|"
   ]
  }
 ],
 "metadata": {
  "language_info": {
   "name": "python"
  }
 },
 "nbformat": 4,
 "nbformat_minor": 2
}

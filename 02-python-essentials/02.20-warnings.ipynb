{
 "cells": [
  {
   "cell_type": "markdown",
   "metadata": {},
   "source": [
    "# 警告\n",
    "出现了一些需要让用户知道的问题，但又不想停止程序，这时候我们可以使用警告：  \n",
    "首先导入警告模块：  "
   ]
  },
  {
   "cell_type": "code",
   "execution_count": 1,
   "metadata": {},
   "outputs": [],
   "source": [
    "import warnings"
   ]
  },
  {
   "cell_type": "markdown",
   "metadata": {},
   "source": [
    "在需要的地方，我们使用`warnings`中的`warn`函数：  \n",
    "`warn(msg, WarningType = UserWarning)`  \n",
    "参数：警告信息，警告类型（可用于filter）"
   ]
  },
  {
   "cell_type": "code",
   "execution_count": 2,
   "metadata": {},
   "outputs": [
    {
     "name": "stderr",
     "output_type": "stream",
     "text": [
      "/var/folders/mj/lskkwkw96l322ms2w17k55wm0000gn/T/ipykernel_91525/875929288.py:4: RuntimeWarning: month (13) is not between 1 and 12\n",
      "  warnings.warn(msg, RuntimeWarning)\n"
     ]
    }
   ],
   "source": [
    "def month_warning(m):\n",
    "    if not 1 <= m <= 12:\n",
    "        msg = \"month (%d) is not between 1 and 12\" % m\n",
    "        warnings.warn(msg, RuntimeWarning)\n",
    "month_warning(13)"
   ]
  },
  {
   "cell_type": "markdown",
   "metadata": {},
   "source": [
    "有时候我们想要忽略特定类型的警告，可以使用`warnings`的`filterwarning`函数：  \n",
    "`filterwarning(action, category)`  \n",
    "将`action`设置为`'ignore'`便可以忽略特定类型的警告：  "
   ]
  },
  {
   "cell_type": "code",
   "execution_count": 4,
   "metadata": {},
   "outputs": [],
   "source": [
    "warnings.filterwarnings(action = 'ignore', category = RuntimeWarning)\n",
    "\n",
    "month_warning(13)"
   ]
  }
 ],
 "metadata": {
  "kernelspec": {
   "display_name": "py310",
   "language": "python",
   "name": "python3"
  },
  "language_info": {
   "codemirror_mode": {
    "name": "ipython",
    "version": 3
   },
   "file_extension": ".py",
   "mimetype": "text/x-python",
   "name": "python",
   "nbconvert_exporter": "python",
   "pygments_lexer": "ipython3",
   "version": "3.10.13"
  }
 },
 "nbformat": 4,
 "nbformat_minor": 2
}
